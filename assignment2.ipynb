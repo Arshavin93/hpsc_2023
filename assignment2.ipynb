{
 "cells": [
  {
   "cell_type": "code",
   "execution_count": 1,
   "id": "19319f74",
   "metadata": {},
   "outputs": [],
   "source": [
    "import numpy as np\n",
    "from numpy import exp"
   ]
  },
  {
   "cell_type": "code",
   "execution_count": 2,
   "id": "f3e73f27",
   "metadata": {},
   "outputs": [],
   "source": [
    "import matplotlib.pyplot as plt"
   ]
  },
  {
   "cell_type": "code",
   "execution_count": 3,
   "id": "eaca90ba",
   "metadata": {},
   "outputs": [
    {
     "name": "stdout",
     "output_type": "stream",
     "text": [
      "Running tests...\n",
      "User defined exponential = 0.36787944117144245, numpy exponential = 0.36787944117144233\n",
      "Defined exponential function have good agreement\n",
      "User defined exponential = 1.0, numpy exponential = 1.0\n",
      "Defined exponential function have good agreement\n",
      "User defined exponential = 1.2364300232772506e+41, numpy exponential = 1.8112390828890233e+41\n"
     ]
    }
   ],
   "source": [
    "\"\"\"\n",
    "A python module for calculating the exponential of a number using exponential series\n",
    "\"\"\"\n",
    "\n",
    "def expo(x,debug=False):\n",
    "    \"\"\"\n",
    "    user defined function expo\n",
    "    Inputs:\n",
    "    x: The number of which exponential is to be calculated\n",
    "    debug: True to check if series is converging in nature, Default value is False\n",
    "    \"\"\"\n",
    "    n=100\n",
    "    m=1\n",
    "    sum=1\n",
    "    for i in range (1,n):\n",
    "        m=m*x/i\n",
    "        sum0=sum\n",
    "        sum=sum+m\n",
    "    if debug:\n",
    "        if abs(sum-sum0)<1e-5:\n",
    "            print(\"Series is converging in nature\")\n",
    "    return sum\n",
    "\n",
    "if __name__ == \"__main__\":\n",
    "    from numpy import exp\n",
    "    print(\"Running tests...\")\n",
    "    xvalue=[-1, 0, 95]\n",
    "    for x in xvalue:\n",
    "        sum=expo(x)\n",
    "        sum_numpy=exp(x)\n",
    "        print(f\"User defined exponential = {sum}, numpy exponential = {sum_numpy}\")\n",
    "        if abs(sum-sum_numpy)<1e-10:\n",
    "            print(\"Defined exponential function have good agreement\")"
   ]
  },
  {
   "cell_type": "code",
   "execution_count": 4,
   "id": "fc2c148a",
   "metadata": {},
   "outputs": [
    {
     "data": {
      "text/plain": [
       "<module 'exponential' from '/home/arshavin/HPSC/assignments/exponential.py'>"
      ]
     },
     "execution_count": 4,
     "metadata": {},
     "output_type": "execute_result"
    }
   ],
   "source": [
    "import exponential as ex\n",
    "import importlib\n",
    "importlib.reload(ex)"
   ]
  },
  {
   "cell_type": "code",
   "execution_count": 6,
   "id": "c55280f1",
   "metadata": {},
   "outputs": [
    {
     "name": "stdout",
     "output_type": "stream",
     "text": [
      "5.55 µs ± 59.1 ns per loop (mean ± std. dev. of 7 runs, 100,000 loops each)\n",
      "266 µs ± 2.21 µs per loop (mean ± std. dev. of 7 runs, 1,000 loops each)\n"
     ]
    },
    {
     "data": {
      "text/plain": [
       "[<matplotlib.lines.Line2D at 0x7f7a383d3ac0>]"
      ]
     },
     "execution_count": 6,
     "metadata": {},
     "output_type": "execute_result"
    },
    {
     "data": {
      "image/png": "[encoded data removed]",
      "text/plain": [
       "<Figure size 640x480 with 1 Axes>"
      ]
     },
     "metadata": {},
     "output_type": "display_data"
    }
   ],
   "source": [
    "x=np.linspace(0,100,1000)\n",
    "y=exp(x)\n",
    "%timeit y=exp(x)\n",
    "plt.plot(x,y,'--g')\n",
    "y1=ex.expo(x)\n",
    "%timeit y1=ex.expo(x)\n",
    "plt.plot(x,y1,'-r')"
   ]
  }
 ],
 "metadata": {
  "kernelspec": {
   "display_name": "Python 3 (ipykernel)",
   "language": "python",
   "name": "python3"
  },
  "language_info": {
   "codemirror_mode": {
    "name": "ipython",
    "version": 3
   },
   "file_extension": ".py",
   "mimetype": "text/x-python",
   "name": "python",
   "nbconvert_exporter": "python",
   "pygments_lexer": "ipython3",
   "version": "3.8.10"
  }
 },
 "nbformat": 4,
 "nbformat_minor": 5
}
